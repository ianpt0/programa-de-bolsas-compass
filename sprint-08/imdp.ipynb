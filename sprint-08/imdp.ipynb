{
 "cells": [
  {
   "cell_type": "code",
   "execution_count": 2,
   "metadata": {},
   "outputs": [
    {
     "data": {
      "text/html": [
       "<div>\n",
       "<style scoped>\n",
       "    .dataframe tbody tr th:only-of-type {\n",
       "        vertical-align: middle;\n",
       "    }\n",
       "\n",
       "    .dataframe tbody tr th {\n",
       "        vertical-align: top;\n",
       "    }\n",
       "\n",
       "    .dataframe thead th {\n",
       "        text-align: right;\n",
       "    }\n",
       "</style>\n",
       "<table border=\"1\" class=\"dataframe\">\n",
       "  <thead>\n",
       "    <tr style=\"text-align: right;\">\n",
       "      <th></th>\n",
       "      <th>Titulo</th>\n",
       "      <th>Data de lançamento</th>\n",
       "      <th>Visão geral</th>\n",
       "      <th>Votos</th>\n",
       "      <th>Média de votos:</th>\n",
       "    </tr>\n",
       "  </thead>\n",
       "  <tbody>\n",
       "    <tr>\n",
       "      <th>0</th>\n",
       "      <td>Primal: Tales of Savagery</td>\n",
       "      <td>2019-11-21</td>\n",
       "      <td></td>\n",
       "      <td>264</td>\n",
       "      <td>8.5</td>\n",
       "    </tr>\n",
       "  </tbody>\n",
       "</table>\n",
       "</div>"
      ],
      "text/plain": [
       "                      Titulo Data de lançamento Visão geral  Votos  \\\n",
       "0  Primal: Tales of Savagery         2019-11-21                264   \n",
       "\n",
       "   Média de votos:  \n",
       "0              8.5  "
      ]
     },
     "metadata": {},
     "output_type": "display_data"
    }
   ],
   "source": [
    "import requests\n",
    "import pandas as pd\n",
    "\n",
    "from IPython.display import display\n",
    "\n",
    "\n",
    "\n",
    "api_key = \"268b202082529c916c317fd2f539f950\"\n",
    "\n",
    "url = f\"https://api.themoviedb.org/3/movie/top_rated?api_key=268b202082529c916c317fd2f539f950&language=pt-BR\"\n",
    "\n",
    "\n",
    "\n",
    "response = requests.get(url)\n",
    "data = response.json()\n",
    "\n",
    "\n",
    "\n",
    "filmes = []\n",
    "\n",
    "\n",
    "\n",
    "for movie in data['results']:\n",
    "    df = {'Titulo': movie['title'],\n",
    "'Data de lançamento': movie['release_date'],\n",
    "'Visão geral': movie['overview'],\n",
    "'Votos': movie['vote_count'],\n",
    "'Média de votos:': movie['vote_average']}\n",
    "\n",
    "\n",
    "\n",
    "filmes.append(df)\n",
    "\n",
    "\n",
    "\n",
    "df = pd.DataFrame(filmes)\n",
    "display(df)"
   ]
  }
 ],
 "metadata": {
  "kernelspec": {
   "display_name": "Python 3",
   "language": "python",
   "name": "python3"
  },
  "language_info": {
   "codemirror_mode": {
    "name": "ipython",
    "version": 3
   },
   "file_extension": ".py",
   "mimetype": "text/x-python",
   "name": "python",
   "nbconvert_exporter": "python",
   "pygments_lexer": "ipython3",
   "version": "3.11.1"
  },
  "orig_nbformat": 4
 },
 "nbformat": 4,
 "nbformat_minor": 2
}
