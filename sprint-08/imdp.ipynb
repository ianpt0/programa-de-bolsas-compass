{
 "cells": [
  {
   "cell_type": "code",
   "execution_count": 2,
   "metadata": {},
   "outputs": [],
   "source": [
    "import requests\n",
    "import pandas as pd\n",
    "\n",
    "from IPython.display import display\n",
    "\n",
    "\n",
    "\n",
    "api_key = \"268b202082529c916c317fd2f539f950\"\n",
    "\n",
    "url = f\"https://api.themoviedb.org/3/movie/top_rated?api_key=268b202082529c916c317fd2f539f950&language=pt-BR\"\n",
    "\n",
    "\n",
    "\n",
    "response = requests.get(url)\n",
    "data = response.json()\n",
    "\n",
    "\n",
    "\n",
    "filmes = []\n",
    "\n",
    "\n",
    "\n",
    "for movie in data['results']:\n",
    "    df = {'Titulo': movie['title'],\n",
    "'Data de lançamento': movie['release_date'],\n",
    "'Visão geral': movie['overview'],\n",
    "'Votos': movie['vote_count'],\n",
    "'Média de votos:': movie['vote_average']}\n",
    "\n",
    "\n",
    "\n",
    "filmes.append(df)\n",
    "\n",
    "\n",
    "\n",
    "df = pd.DataFrame(filmes)\n",
    "display(df)"
   ]
  }
 ],
 "metadata": {
  "kernelspec": {
   "display_name": "Python 3",
   "language": "python",
   "name": "python3"
  },
  "language_info": {
   "codemirror_mode": {
    "name": "ipython",
    "version": 3
   },
   "file_extension": ".py",
   "mimetype": "text/x-python",
   "name": "python",
   "nbconvert_exporter": "python",
   "pygments_lexer": "ipython3",
   "version": "3.11.1"
  },
  "orig_nbformat": 4
 },
 "nbformat": 4,
 "nbformat_minor": 2
}
