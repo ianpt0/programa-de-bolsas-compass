{
 "cells": [
  {
   "attachments": {},
   "cell_type": "markdown",
   "metadata": {},
   "source": [
    "### 1. Identifique o ator/atriz com maior número de filmes e o respectivo número de filmes."
   ]
  },
  {
   "cell_type": "code",
   "execution_count": 5,
   "metadata": {},
   "outputs": [
    {
     "name": "stdout",
     "output_type": "stream",
     "text": [
      "            Actor  Number of Movies\n",
      "19  Robert DeNiro                79\n"
     ]
    }
   ],
   "source": [
    "import pandas as pd\n",
    "\n",
    "# Leitura do arquivo CSV\n",
    "df = pd.read_csv('actors.csv')\n",
    "\n",
    "# Identifique o ator/atriz com o maior número de filmes\n",
    "highest_movie_count_actor = df[df['Number of Movies'] == df['Number of Movies'].max()]\n",
    "\n",
    "# Imprime o ator/atriz com o maior número de filmes e o respectivo número de filmes\n",
    "print(highest_movie_count_actor[['Actor', 'Number of Movies']])\n"
   ]
  },
  {
   "attachments": {},
   "cell_type": "markdown",
   "metadata": {},
   "source": [
    "### 2. Apresente a média da coluna contendo o número de filmes."
   ]
  },
  {
   "cell_type": "code",
   "execution_count": 7,
   "metadata": {},
   "outputs": [
    {
     "name": "stdout",
     "output_type": "stream",
     "text": [
      "A média do número de filmes é: 37.88\n"
     ]
    }
   ],
   "source": [
    "import pandas as pd\n",
    "\n",
    "# Leitura do arquivo CSV\n",
    "df = pd.read_csv('actors.csv')\n",
    "\n",
    "# Calcula a média da coluna 'number of movies'\n",
    "average_movies = df['Number of Movies'].mean()\n",
    "\n",
    "print('A média do número de filmes é:', average_movies)\n"
   ]
  },
  {
   "attachments": {},
   "cell_type": "markdown",
   "metadata": {},
   "source": [
    "### 3. Apresente o nome do ator/atriz com a maior média por filme."
   ]
  },
  {
   "cell_type": "code",
   "execution_count": 13,
   "metadata": {},
   "outputs": [
    {
     "name": "stdout",
     "output_type": "stream",
     "text": [
      "Anthony Daniels\n"
     ]
    }
   ],
   "source": [
    "import pandas as pd\n",
    "\n",
    "# Leitura do arquivo CSV\n",
    "df = pd.read_csv('actors.csv')\n",
    "\n",
    "# Encontra o ator/atriz com a maior média por filme\n",
    "highest_avg_per_movie_index = df['Average per Movie'].idxmax()\n",
    "highest_avg_per_movie_actor = df.loc[highest_avg_per_movie_index]\n",
    "\n",
    "# Imprime o nome do ator/atriz com a maior média por filme\n",
    "print(highest_avg_per_movie_actor['Actor'])\n"
   ]
  },
  {
   "attachments": {},
   "cell_type": "markdown",
   "metadata": {},
   "source": [
    "### 4. Apresente o nome do(s) filme(s) mais frequente(s) e sua respectiva frequência."
   ]
  },
  {
   "cell_type": "code",
   "execution_count": 17,
   "metadata": {},
   "outputs": [
    {
     "name": "stdout",
     "output_type": "stream",
     "text": [
      "Os filmes mais frequentes:\n",
      "The Avengers                           6\n",
      "Catching Fire                          4\n",
      "Harry Potter / Deathly Hallows (P2)    4\n",
      "Star Wars: The Force Awakens           3\n",
      "The Dark Knight                        3\n",
      "Name: #1 Movie, dtype: int64\n"
     ]
    }
   ],
   "source": [
    "import pandas as pd\n",
    "\n",
    "# Leitura do arquivo CSV\n",
    "df = pd.read_csv('actors.csv')\n",
    "\n",
    "# Calcula a frequência de cada filme\n",
    "movie_frequency = df['#1 Movie'].value_counts()\n",
    "\n",
    "# Pega os top 5 filmes mais frequentes, você pode mudar o número de acordo com sua necessidade\n",
    "most_frequent_movies = movie_frequency.head(5)\n",
    "\n",
    "print('Os filmes mais frequentes:')\n",
    "print(most_frequent_movies)\n"
   ]
  }
 ],
 "metadata": {
  "kernelspec": {
   "display_name": "Python 3",
   "language": "python",
   "name": "python3"
  },
  "language_info": {
   "codemirror_mode": {
    "name": "ipython",
    "version": 3
   },
   "file_extension": ".py",
   "mimetype": "text/x-python",
   "name": "python",
   "nbconvert_exporter": "python",
   "pygments_lexer": "ipython3",
   "version": "3.11.1"
  },
  "orig_nbformat": 4
 },
 "nbformat": 4,
 "nbformat_minor": 2
}
