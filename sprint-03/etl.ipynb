{
 "cells": [
  {
   "attachments": {},
   "cell_type": "markdown",
   "metadata": {},
   "source": [
    "# Abrindo CSV "
   ]
  },
  {
   "cell_type": "code",
   "execution_count": 271,
   "metadata": {},
   "outputs": [
    {
     "name": "stdout",
     "output_type": "stream",
     "text": [
      "Actor Total Gross Number of Movies Average per Movie #1 Movie Gross\n",
      "Harrison Ford 4871.70  41 118.80  Star Wars: The Force Awakens 936.70\n",
      "Samuel L. Jackson 4772.80  69 69.20  The Avengers 623.40\n",
      "Morgan Freeman 4468.30  61 73.30  The Dark Knight 534.90\n",
      "Tom Hanks 4340.80  44 98.70  Toy Story 3 415.00\n",
      "\"Robert Downey  Jr.\" 3947.30  53 74.50  The Avengers\n",
      "Eddie Murphy 3810.40  38 100.30  Shrek 2 441.20\n",
      "Tom Cruise 3587.20  36 99.60  War of the Worlds 234.30\n",
      "Johnny Depp 3368.60  45 74.90  Dead Man's Chest 423.30\n",
      "Michael Caine 3351.50  58 57.80  The Dark Knight 534.90\n",
      "Scarlett Johansson 3341.20  37 90.30  The Avengers 623.40\n",
      "Gary Oldman 3294.00  38 86.70  The Dark Knight 534.90\n",
      "Robin Williams 3279.30  49 66.90  Night at the Museum 250.90\n",
      "Bruce Willis 3189.40  60 53.20  Sixth Sense 293.50\n",
      "Stellan Skarsgard 3175.00  43 73.80  The Avengers 623.40\n",
      "Anthony Daniels 3162.90  7 451.80  Star Wars: The Force Awakens 936.70\n",
      "Ian McKellen 3150.40  31 101.60  Return of the King 377.80\n",
      "Will Smith 3149.10  24 131.20  Independence Day 306.20\n",
      "Stanley Tucci 3123.90  50 62.50  Catching Fire 424.70\n",
      "Matt Damon 3107.30  39 79.70  The Martian 228.40\n",
      "Robert DeNiro 3081.30  79 39.00  Meet the Fockers 279.30\n",
      "Cameron Diaz 3031.70  34 89.20  Shrek 2 441.20\n",
      "Liam Neeson 2942.70  63 46.70  The Phantom Menace 474.50\n",
      "Andy Serkis 2890.60  23 125.70  Star Wars: The Force Awakens 936.70\n",
      "Don Cheadle 2885.40  34 84.90  Avengers: Age of Ultron 459.00\n",
      "Ben Stiller 2827.00  37 76.40  Meet the Fockers 279.30\n",
      "Helena Bonham Carter 2822.00  36 78.40  Harry Potter / Deathly Hallows (P2) 381.00\n",
      "Orlando Bloom 2815.80  17 165.60  Dead Man's Chest 423.30\n",
      "Woody Harrelson 2815.80  50 56.30  Catching Fire 424.70\n",
      "Cate Blanchett 2802.60  39 71.90  Return of the King 377.80\n",
      "Julia Roberts 2735.30  42 65.10  Ocean's Eleven 183.40\n",
      "Elizabeth Banks 2726.30  35 77.90  Catching Fire 424.70\n",
      "Ralph Fiennes 2715.30  36 75.40  Harry Potter / Deathly Hallows (P2) 381.00\n",
      "Emma Watson 2681.90  17 157.80  Harry Potter / Deathly Hallows (P2) 381.00\n",
      "Tommy Lee Jones 2681.30  46 58.30  Men in Black 250.70\n",
      "Brad Pitt 2680.90  40 67.00  World War Z 202.40\n",
      "Adam Sandler 2661.00  32 83.20  Hotel Transylvania 2 169.70\n",
      "Daniel Radcliffe 2634.40  17 155.00  Harry Potter / Deathly Hallows (P2) 381.00\n",
      "Jonah Hill 2605.10  29 89.80  The LEGO Movie 257.80\n",
      "Owen Wilson 2602.30  39 66.70  Night at the Museum 250.90\n",
      "Idris Elba 2580.60  26 99.30  Avengers: Age of Ultron 459.00\n",
      "Bradley Cooper 2557.70  25 102.30  American Sniper 350.10\n",
      "Mark Wahlberg 2549.80  36 70.80  Transformers 4 245.40\n",
      "Jim Carrey 2545.20  27 94.30  The Grinch 260.00\n",
      "Dustin Hoffman 2522.10  43 58.70  Meet the Fockers 279.30\n",
      "Leonardo DiCaprio 2518.30  25 100.70  Titanic 658.70\n",
      "Jeremy Renner 2500.30  21 119.10  The Avengers 623.40\n",
      "Philip Seymour Hoffman 2463.70  40 61.60  Catching Fire 424.70\n",
      "Sandra Bullock 2462.60  35 70.40  Minions 336.00\n",
      "Chris Evans 2457.80  23 106.90  The Avengers 623.40\n",
      "Anne Hathaway 2416.50  25 96.70  The Dark Knight Rises 448.10\n"
     ]
    }
   ],
   "source": [
    "with open('actors.csv', 'r') as file:\n",
    "    for line in file:\n",
    "        fields = line.strip().split(',')\n",
    "        actor = fields[0]\n",
    "        totalGross = fields[1]\n",
    "        numberOfMovies = fields[2]\n",
    "        averagePerMovie = fields[3]\n",
    "        firstMovie = fields[4]\n",
    "        gross = fields[5]\n",
    "\n",
    "        print(actor, totalGross, numberOfMovies, averagePerMovie, firstMovie, gross)\n",
    "        \n"
   ]
  },
  {
   "attachments": {},
   "cell_type": "markdown",
   "metadata": {},
   "source": [
    "# Apresente o ator/atriz com maior número de filmes e a respectiva quantidade."
   ]
  },
  {
   "cell_type": "code",
   "execution_count": 228,
   "metadata": {},
   "outputs": [
    {
     "name": "stdout",
     "output_type": "stream",
     "text": [
      "Robert DeNiro 79.0\n"
     ]
    }
   ],
   "source": [
    "# Criando dicionário para consultar nome dos atores e quantidade de filmes feitos\n",
    "actors_dict = {}\n",
    "\n",
    "with open('actors.csv', 'r') as file:\n",
    "    # Ignorando a primeira linha com o next\n",
    "    next(file)\n",
    "    for line in file:\n",
    "        fields = line.strip().split(',')\n",
    "        actor = fields[0]\n",
    "        # Convertendo o número de filmes de string pra float pra conseguir fazer a condicional\n",
    "        numberOfMovies = float(fields[2])\n",
    "        # Removendo número de filmes que for maior que 500 pra excluir \"Robert Downey\" da lista pois já foi verificado que ele não possui o maior número de filmes e a vírgula do nome dele tá dando conflito.\n",
    "        if numberOfMovies < 500:\n",
    "            actors_dict[actor] = numberOfMovies\n",
    "\n",
    "\n",
    "\n",
    "ator_com_mais_filmes = max(actors_dict, key=actors_dict.get)\n",
    "qtd_filmes = actors_dict[ator_com_mais_filmes]\n",
    "\n",
    "print(ator_com_mais_filmes, qtd_filmes)"
   ]
  },
  {
   "attachments": {},
   "cell_type": "markdown",
   "metadata": {},
   "source": [
    "# Apresente a  média de faturamento bruto por ator."
   ]
  },
  {
   "cell_type": "code",
   "execution_count": 272,
   "metadata": {},
   "outputs": [
    {
     "name": "stdout",
     "output_type": "stream",
     "text": [
      "{'Harrison Ford': '4871.70 ', 'Samuel L. Jackson': '4772.80 ', 'Morgan Freeman': '4468.30 ', 'Tom Hanks': '4340.80 ', '\"Robert Downey': ' Jr.\"', 'Eddie Murphy': '3810.40 ', 'Tom Cruise': '3587.20 ', 'Johnny Depp': '3368.60 ', 'Michael Caine': '3351.50 ', 'Scarlett Johansson': '3341.20 ', 'Gary Oldman': '3294.00 ', 'Robin Williams': '3279.30 ', 'Bruce Willis': '3189.40 ', 'Stellan Skarsgard': '3175.00 ', 'Anthony Daniels': '3162.90 ', 'Ian McKellen': '3150.40 ', 'Will Smith': '3149.10 ', 'Stanley Tucci': '3123.90 ', 'Matt Damon': '3107.30 ', 'Robert DeNiro': '3081.30 ', 'Cameron Diaz': '3031.70 ', 'Liam Neeson': '2942.70 ', 'Andy Serkis': '2890.60 ', 'Don Cheadle': '2885.40 ', 'Ben Stiller': '2827.00 ', 'Helena Bonham Carter': '2822.00 ', 'Orlando Bloom': '2815.80 ', 'Woody Harrelson': '2815.80 ', 'Cate Blanchett': '2802.60 ', 'Julia Roberts': '2735.30 ', 'Elizabeth Banks': '2726.30 ', 'Ralph Fiennes': '2715.30 ', 'Emma Watson': '2681.90 ', 'Tommy Lee Jones': '2681.30 ', 'Brad Pitt': '2680.90 ', 'Adam Sandler': '2661.00 ', 'Daniel Radcliffe': '2634.40 ', 'Jonah Hill': '2605.10 ', 'Owen Wilson': '2602.30 ', 'Idris Elba': '2580.60 ', 'Bradley Cooper': '2557.70 ', 'Mark Wahlberg': '2549.80 ', 'Jim Carrey': '2545.20 ', 'Dustin Hoffman': '2522.10 ', 'Leonardo DiCaprio': '2518.30 ', 'Jeremy Renner': '2500.30 ', 'Philip Seymour Hoffman': '2463.70 ', 'Sandra Bullock': '2462.60 ', 'Chris Evans': '2457.80 ', 'Anne Hathaway': '2416.50 '}\n"
     ]
    }
   ],
   "source": [
    "\n",
    "\n",
    "# Criando dicionário para consultar nome dos atores e faturamento bruto\n",
    "actors_faturamento = {}\n",
    "\n",
    "\n",
    "with open('actors.csv', 'r') as file:\n",
    "    # Ignorando a primeira linha com o next\n",
    "    next(file)\n",
    "    for line in file:\n",
    "        fields = line.strip().split(',')\n",
    "        # ator\n",
    "        actor = fields[0]\n",
    "        # faturamento bruto e filtrando para aparecer apenas números\n",
    "        faturamento = fields[1]\n",
    "        actors_faturamento[actor] = faturamento\n",
    "        \n",
    "       \n",
    "print(actors_faturamento)\n",
    "\n",
    "\n"
   ]
  }
 ],
 "metadata": {
  "kernelspec": {
   "display_name": "Python 3",
   "language": "python",
   "name": "python3"
  },
  "language_info": {
   "codemirror_mode": {
    "name": "ipython",
    "version": 3
   },
   "file_extension": ".py",
   "mimetype": "text/x-python",
   "name": "python",
   "nbconvert_exporter": "python",
   "pygments_lexer": "ipython3",
   "version": "3.11.1"
  },
  "orig_nbformat": 4
 },
 "nbformat": 4,
 "nbformat_minor": 2
}
