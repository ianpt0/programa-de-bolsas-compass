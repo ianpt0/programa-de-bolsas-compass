{
 "cells": [
  {
   "attachments": {},
   "cell_type": "markdown",
   "metadata": {},
   "source": [
    "Coding Exercise 1\n",
    "\n",
    "Desenvolva um código Python que lê do teclado nome e a idade atual de uma pessoa. Como saída, imprima o ano em que a pessoa completará 100 anos de idade."
   ]
  },
  {
   "cell_type": "code",
   "execution_count": null,
   "metadata": {},
   "outputs": [],
   "source": [
    "import datetime as dt\n",
    "\n",
    "nome = input('Digite seu nome')\n",
    "idade = int(input('Digite sua idade'))\n",
    "\n",
    "ano_atual = dt.datetime.now().year\n",
    "ano_nascimento = ano_atual - idade\n",
    "ano_com_100 = ano_nascimento + 100 \n",
    "\n",
    "print(ano_com_100)"
   ]
  },
  {
   "attachments": {},
   "cell_type": "markdown",
   "metadata": {},
   "source": [
    "Coding Exercise 2\n",
    "\n",
    "Escreva um código Python para verificar se três números digitados na entrada padrão são pares ou ímpares. Para cada número, imprima como saída Par: ou Ímpar: e o número correspondente (um linha para cada número lido)."
   ]
  },
  {
   "cell_type": "code",
   "execution_count": null,
   "metadata": {},
   "outputs": [],
   "source": [
    "for i in range(3):\n",
    "    num = int(input())\n",
    "    if num % 2 == 0:\n",
    "        print(\"Par:\", num)\n",
    "    else:\n",
    "        print(\"Ímpar:\", num)"
   ]
  },
  {
   "attachments": {},
   "cell_type": "markdown",
   "metadata": {},
   "source": [
    "Coding Exercise 3\n",
    "\n",
    "Escreva um código Python para imprimir os números pares de 0 até 20 (incluso)."
   ]
  },
  {
   "cell_type": "code",
   "execution_count": null,
   "metadata": {},
   "outputs": [],
   "source": [
    "for n in range(21):\n",
    "    if (n % 2 == 0):\n",
    "        print(n)"
   ]
  },
  {
   "attachments": {},
   "cell_type": "markdown",
   "metadata": {},
   "source": [
    "Coding Exercise 4\n",
    "\n",
    "Escreva um código Python para imprimir todos os números primos entre 1 até 100. Lembre-se que você deverá desenvolver o cálculo que identifica se um número é primo ou não."
   ]
  },
  {
   "cell_type": "code",
   "execution_count": null,
   "metadata": {},
   "outputs": [],
   "source": [
    "def verificador_primo(n):\n",
    "  if n <= 1:\n",
    "    return False\n",
    "  elif n == 2:\n",
    "    return True\n",
    "  elif n % 2 == 0:\n",
    "    return False\n",
    "  else:\n",
    "    limite = int(n ** 0.5) + 1\n",
    "    for i in range(3, limite):\n",
    "      if n % i == 0:\n",
    "        return False\n",
    "    return True\n",
    "\n",
    "for numero in range(1, 101):\n",
    "  if verificador_primo(numero):\n",
    "    print(numero)"
   ]
  },
  {
   "attachments": {},
   "cell_type": "markdown",
   "metadata": {},
   "source": [
    "Coding Exercise 5\n",
    "\n",
    "Escreva um código Python que declara 3 variáveis:\n",
    "\n",
    "\n",
    "\n",
    "dia, inicializada com valor 22\n",
    "\n",
    "mes, inicializada com valor 10 e\n",
    "\n",
    "ano, inicializada com valor 2022\n",
    "\n",
    "Como saída, você deverá imprimir a data correspondente, no formato a seguir dia/mes/ano."
   ]
  },
  {
   "cell_type": "code",
   "execution_count": null,
   "metadata": {},
   "outputs": [],
   "source": [
    "dia = 22\n",
    "mes = 10\n",
    "ano = 2022\n",
    "\n",
    "print(dia,mes,ano,sep='/')"
   ]
  },
  {
   "attachments": {},
   "cell_type": "markdown",
   "metadata": {},
   "source": [
    "Coding Exercise 6\n",
    "\n",
    "Considere as duas listas abaixo:\n",
    "\n",
    "\n",
    "\n",
    "a = [1, 1, 2, 3, 5, 8, 14, 21, 34, 55, 89]\n",
    "b = [1, 2, 3, 4, 5, 6, 7, 8, 9, 10, 11, 12, 13, 14, 15]\n",
    "\n",
    "\n",
    "Escreva um programa para avaliar o que ambas as listas têm em comum (sem repetições), imprimindo a lista de valores da interseção na saída padrão."
   ]
  },
  {
   "cell_type": "code",
   "execution_count": null,
   "metadata": {},
   "outputs": [],
   "source": [
    "a = [1, 1, 2, 3, 5, 8, 14, 21, 34, 55, 89]\n",
    "b = [1, 2, 3, 4, 5, 6, 7, 8, 9, 10, 11, 12, 13, 14, 15]\n",
    "\n",
    "numeros_comuns = set(a).intersection(set(b))\n",
    "\n",
    "print(list(numeros_comuns))"
   ]
  },
  {
   "attachments": {},
   "cell_type": "markdown",
   "metadata": {},
   "source": [
    "Coding Exercise 7\n",
    "\n",
    "Dada a seguinte lista:\n",
    "\n",
    "\n",
    "\n",
    "a = [1, 4, 9, 16, 25, 36, 49, 64, 81, 100]\n",
    "\n",
    "\n",
    "\n",
    "Faça um programa que gere uma nova lista contendo apenas números ímpares."
   ]
  },
  {
   "cell_type": "code",
   "execution_count": 10,
   "metadata": {},
   "outputs": [
    {
     "name": "stdout",
     "output_type": "stream",
     "text": [
      "[1, 9, 25, 49, 81]\n"
     ]
    }
   ],
   "source": [
    "a = [1, 4, 9, 16, 25, 36, 49, 64, 81, 100]\n",
    "numeros_impares = []\n",
    "\n",
    "for num in a:\n",
    "    if num % 2 != 0:\n",
    "        numeros_impares.append(num)\n",
    "\n",
    "print(numeros_impares)"
   ]
  },
  {
   "attachments": {},
   "cell_type": "markdown",
   "metadata": {},
   "source": [
    "Coding Exercise 8\n",
    "\n",
    "Verifique se cada uma das palavras da lista ['maça', 'arara', 'audio', 'radio', 'radar', 'moto'] é ou não um palíndromo.\n",
    "\n",
    "Obs: Palíndromo é uma palavra que permanece igual se lida de traz pra frente."
   ]
  },
  {
   "cell_type": "code",
   "execution_count": 20,
   "metadata": {},
   "outputs": [
    {
     "name": "stdout",
     "output_type": "stream",
     "text": [
      "A palavra: maça não é um palíndromo\n",
      "A palavra: arara é um palíndromo\n",
      "A palavra: audio não é um palíndromo\n",
      "A palavra: radio não é um palíndromo\n",
      "A palavra: radar é um palíndromo\n",
      "A palavra: moto não é um palíndromo\n"
     ]
    }
   ],
   "source": [
    "palavras = ['maça', 'arara', 'audio', 'radio', 'radar', 'moto']\n",
    "\n",
    "def check_palindromo(s):\n",
    "    return s == s[::-1]\n",
    "\n",
    "for s in palavras:\n",
    "    if s == s[::-1]:\n",
    "        print('A palavra:',s,'é um palíndromo')\n",
    "    else:\n",
    "        print('A palavra:',s,'não é um palíndromo')\n",
    "    \n"
   ]
  },
  {
   "attachments": {},
   "cell_type": "markdown",
   "metadata": {},
   "source": [
    "Coding Exercise 9\n",
    "\n",
    "Dada as listas a seguir:\n",
    "\n",
    "\n",
    "\n",
    "primeirosNomes = ['Joao', 'Douglas', 'Lucas', 'José']\n",
    "sobreNomes = ['Soares', 'Souza', 'Silveira', 'Pedreira']\n",
    "idades = [19, 28, 25, 31]\n",
    "\n",
    "\n",
    "Faça um programa que imprima o dados na seguinte estrutura: \"índice - primeiroNome sobreNome está com idade anos\"."
   ]
  },
  {
   "cell_type": "code",
   "execution_count": 21,
   "metadata": {},
   "outputs": [
    {
     "name": "stdout",
     "output_type": "stream",
     "text": [
      "0 - Joao Soares está com 19 anos\n",
      "1 - Douglas Souza está com 28 anos\n",
      "2 - Lucas Silveira está com 25 anos\n",
      "3 - José Pedreira está com 31 anos\n"
     ]
    }
   ],
   "source": [
    "primeirosNomes = ['Joao', 'Douglas', 'Lucas', 'José']\n",
    "sobreNomes = ['Soares', 'Souza', 'Silveira', 'Pedreira']\n",
    "idades = [19, 28, 25, 31]\n",
    "\n",
    "for i, primeiroNome in enumerate(primeirosNomes):\n",
    "    sobreNome = sobreNomes[i]\n",
    "    idade = idades[i]\n",
    "    print(f\"{i} - {primeiroNome} {sobreNome} está com {idade} anos\")"
   ]
  },
  {
   "attachments": {},
   "cell_type": "markdown",
   "metadata": {},
   "source": [
    "Coding Exercise 10\n",
    "\n",
    "Escreva uma função que recebe uma lista e retorna uma nova lista sem elementos duplicados. Utilize a lista a seguir para testar sua função.\n",
    "\n",
    "\n",
    "\n",
    "['abc', 'abc', 'abc', '123', 'abc', '123', '123']"
   ]
  },
  {
   "cell_type": "code",
   "execution_count": 3,
   "metadata": {},
   "outputs": [
    {
     "name": "stdout",
     "output_type": "stream",
     "text": [
      "{'abc': None, '123': None}\n"
     ]
    }
   ],
   "source": [
    "lista = ['abc', 'abc', 'abc', '123', 'abc', '123', '123']\n",
    "\n",
    "\n",
    "def remover_duplicatas(lst):\n",
    "    lista_sem_duplicatas = list(set(lst))\n",
    "    return lista_sem_duplicatas\n",
    "    \n",
    "print(remover_duplicatas(lista))"
   ]
  },
  {
   "attachments": {},
   "cell_type": "markdown",
   "metadata": {},
   "source": [
    "Coding Exercise 11\n",
    "\n",
    "Escreva um programa que lê o conteúdo do arquivo texto arquivo_texto.txt e imprime o seu conteúdo."
   ]
  },
  {
   "cell_type": "code",
   "execution_count": null,
   "metadata": {},
   "outputs": [],
   "source": [
    "with open('arquivo_texto.txt', 'r') as file:\n",
    "    for line in file:\n",
    "        print(line, end='')"
   ]
  },
  {
   "attachments": {},
   "cell_type": "markdown",
   "metadata": {},
   "source": [
    "Coding Exercise 12\n",
    "\n",
    "Leia o arquivo person.json, faça o parsing e imprima seu conteúdo.\n",
    "\n",
    "Dica: leia a documentação do pacote json"
   ]
  },
  {
   "cell_type": "code",
   "execution_count": null,
   "metadata": {},
   "outputs": [],
   "source": [
    "import json\n",
    "\n",
    "with open('person.json', 'r') as f:\n",
    "    data = json.load(f)\n",
    "\n",
    "print(data)"
   ]
  },
  {
   "attachments": {},
   "cell_type": "markdown",
   "metadata": {},
   "source": [
    "Coding Exercise 13\n",
    "\n",
    "Implemente a função my_map(list, f) que recebe uma lista como primeiro argumento e uma função como segundo argumento. Esta função aplica a função recebida para cada elemento da lista recebida e retorna o resultado em uma nova lista."
   ]
  },
  {
   "cell_type": "code",
   "execution_count": 9,
   "metadata": {},
   "outputs": [
    {
     "name": "stdout",
     "output_type": "stream",
     "text": [
      "[1, 4, 9, 16, 25, 36, 49, 64, 81, 100]\n"
     ]
    }
   ],
   "source": [
    "lista_input = [1, 2, 3, 4, 5, 6, 7, 8, 9, 10]\n",
    "\n",
    "def my_map(*args):\n",
    "    result = []\n",
    "    for item in args:\n",
    "        result.append(item ** 2)\n",
    "    return result\n",
    "\n",
    "print(my_map(*lista_input))\n",
    "\n",
    "\n"
   ]
  },
  {
   "attachments": {},
   "cell_type": "markdown",
   "metadata": {},
   "source": [
    "Coding Exercise 14\n",
    "\n",
    "Escreva uma função que recebe um número variável de parâmetros não nomeados e um número variado de parâmetros nomeados e imprime o valor de cada parâmetro recebido."
   ]
  },
  {
   "cell_type": "code",
   "execution_count": 11,
   "metadata": {},
   "outputs": [
    {
     "name": "stdout",
     "output_type": "stream",
     "text": [
      "1\n",
      "3\n",
      "4\n",
      "hello\n",
      "alguma coisa\n",
      "20\n"
     ]
    }
   ],
   "source": [
    "def func(*args, **kwargs):\n",
    "    for arg in args:\n",
    "        print(arg)\n",
    "    for val in kwargs:\n",
    "        print(kwargs[val])\n",
    "\n",
    "func(1, 3, 4, 'hello', parametro_nomeado='alguma coisa', x=20)"
   ]
  },
  {
   "attachments": {},
   "cell_type": "markdown",
   "metadata": {},
   "source": [
    "Coding Exercise 15\n",
    "\n",
    "Implemente a classe Lampada. A classe Lâmpada recebe um booleano no seu construtor, Truese a lâmpada estiver ligada, False caso esteja desligada. A classe Lampada possuí os seguintes métodos:\n",
    "\n",
    "liga(): muda o estado da lâmpada para ligada\n",
    "\n",
    "desliga(): muda o estado da lâmpada para desligada\n",
    "\n",
    "esta_ligada(): retorna verdadeiro se a lâmpada estiver ligada, falso caso contrário\n",
    "\n",
    "Para testar sua classe:\n",
    "\n",
    "Ligue a Lampada\n",
    "\n",
    "Imprima: A lâmpada está ligada? True\n",
    "\n",
    "Desligue a Lampada\n",
    "\n",
    "Imprima: A lâmpada ainda está ligada? False"
   ]
  },
  {
   "cell_type": "code",
   "execution_count": 35,
   "metadata": {},
   "outputs": [
    {
     "name": "stdout",
     "output_type": "stream",
     "text": [
      "A lâmpada está ligada? True\n",
      "A lâmpada ainda está ligada? False\n"
     ]
    }
   ],
   "source": [
    "class Lampada:\n",
    "    def __init__(self, estado):\n",
    "        self.estado = estado\n",
    "    \n",
    "    \n",
    "    def liga(self):\n",
    "        self.estado = True\n",
    "        \n",
    "    def ligada(self):\n",
    "        self.estado = True\n",
    "    \n",
    "    def desliga(self):\n",
    "        self.estado = False\n",
    "    \n",
    "    def esta_ligada(self):\n",
    "        if self.estado == True:\n",
    "            return self.estado\n",
    "        else:\n",
    "            return False\n",
    "\n",
    "lampada = Lampada(False)\n",
    "\n",
    "# liga\n",
    "lampada.ligada()\n",
    "\n",
    "# verifica\n",
    "print(\"A lâmpada está ligada?\",lampada.esta_ligada()) # deve imprimir True\n",
    "\n",
    "# desliga\n",
    "lampada.desliga()\n",
    "\n",
    "# verifica \n",
    "print(\"A lâmpada ainda está ligada?\",lampada.esta_ligada()) # deve imprimir False\n"
   ]
  },
  {
   "attachments": {},
   "cell_type": "markdown",
   "metadata": {},
   "source": [
    "Coding Exercise 16\n",
    "\n",
    "Escreva uma função que recebe uma string de números separados por vírgula e retorne a soma de todos eles. Depois imprima a soma dos valores."
   ]
  },
  {
   "cell_type": "code",
   "execution_count": null,
   "metadata": {},
   "outputs": [],
   "source": [
    "def sum_string_numbers(string_numbers: str):\n",
    "    numbers = map(int, string_numbers.split(\",\"))\n",
    "    return sum(numbers)\n",
    "\n",
    "string_numbers = \"1,3,4,6,10,76\"\n",
    "result = sum_string_numbers(string_numbers)\n",
    "print(result)\n"
   ]
  },
  {
   "attachments": {},
   "cell_type": "markdown",
   "metadata": {},
   "source": [
    "Coding Exercise 17\n",
    "\n",
    "Escreva uma função que recebe como parâmetro uma lista e retorna 3 listas: a lista recebida dividida em 3 partes iguais. Teste sua implementação com a lista abaixo"
   ]
  },
  {
   "cell_type": "code",
   "execution_count": 62,
   "metadata": {},
   "outputs": [
    {
     "name": "stdout",
     "output_type": "stream",
     "text": [
      "[[1, 2, 3, 4], [5, 6, 7, 8], [9, 10, 11, 12]]\n"
     ]
    }
   ],
   "source": [
    "lista = [1, 2, 3, 4, 5, 6, 7, 8, 9, 10, 11, 12]\n",
    "\n",
    "def divide_lista(lst):\n",
    "    n = len(lst) // 3\n",
    "    return [lst[:n], lst[n:2*n], lst[2*n:]]\n",
    "\n",
    "nova_lista = divide_lista(lista)\n",
    "print(nova_lista)"
   ]
  },
  {
   "attachments": {},
   "cell_type": "markdown",
   "metadata": {},
   "source": [
    "Coding Exercise 18\n",
    "\n",
    "Dado o dicionário a seguir:\n",
    "\n",
    "speed = {'jan':47, 'feb':52, 'march':47, 'April':44, 'May':52, 'June':53, 'july':54, 'Aug':44, 'Sept':54}\n",
    "\n",
    "Crie uma lista com todos os valores (não as chaves!) e coloque numa lista de forma que não haja valores duplicados."
   ]
  },
  {
   "cell_type": "code",
   "execution_count": 63,
   "metadata": {},
   "outputs": [
    {
     "name": "stdout",
     "output_type": "stream",
     "text": [
      "[44, 47, 52, 53, 54]\n"
     ]
    }
   ],
   "source": [
    "speed = {'jan':47, 'feb':52, 'march':47, 'April':44, 'May':52, 'June':53,\n",
    "         'july':54, 'Aug':44, 'Sept':54}\n",
    "\n",
    "speeds_unicos = list(set(speed.values()))\n",
    "\n",
    "print(speeds_unicos)"
   ]
  },
  {
   "attachments": {},
   "cell_type": "markdown",
   "metadata": {},
   "source": [
    "Coding Exercise 19\n",
    "\n",
    "Calcule o valor mínimo, valor máximo, valor médio e a mediana da lista"
   ]
  },
  {
   "cell_type": "code",
   "execution_count": 64,
   "metadata": {},
   "outputs": [],
   "source": [
    "import random\n",
    "import statistics\n",
    "\n",
    "random_list = random.sample(range(500), 50)\n",
    "random_list.sort()\n",
    "\n",
    "mediana = statistics.median(random_list)\n",
    "media = sum(random_list) / len(random_list)\n",
    "valor_minimo = min(random_list)\n",
    "valor_maximo = max(random_list)"
   ]
  },
  {
   "attachments": {},
   "cell_type": "markdown",
   "metadata": {},
   "source": [
    "Coding Exercise 20\n",
    "\n",
    "Imprima a lista abaixo de trás para frente.\n",
    "\n",
    "a = [1, 0, 2, 3, 5, 8, 13, 21, 34, 55, 89]"
   ]
  },
  {
   "cell_type": "code",
   "execution_count": null,
   "metadata": {},
   "outputs": [],
   "source": [
    "a = [1, 0, 2, 3, 5, 8, 13, 21, 34, 55, 89]\n",
    "\n",
    "print(a[::-1])"
   ]
  },
  {
   "attachments": {},
   "cell_type": "markdown",
   "metadata": {},
   "source": [
    "Coding Exercise 21\n",
    "\n",
    "Implemente duas classes Pato e Pardal que herdem de uma classe Passaro a habilidade de voar e emitir som, porém, tanto Pato quanto Pardal devem emitir sons diferentes (de maneira escrita) no console."
   ]
  },
  {
   "cell_type": "code",
   "execution_count": 65,
   "metadata": {},
   "outputs": [
    {
     "name": "stdout",
     "output_type": "stream",
     "text": [
      "Pato\n",
      "Voando...\n",
      "Pato emitindo som...\n",
      "Quack Quack\n",
      "\n",
      "Pardal\n",
      "Voando...\n",
      "Pardal emitindo som...\n",
      "Piu Piu\n"
     ]
    }
   ],
   "source": [
    "class Passaro:\n",
    "    def voar(self):\n",
    "        print(\"Voando...\")\n",
    "\n",
    "    def emitir_som(self):\n",
    "        pass\n",
    "\n",
    "class Pato(Passaro):\n",
    "    def emitir_som(self):\n",
    "        print(\"Pato emitindo som...\")\n",
    "        print(\"Quack Quack\")\n",
    "\n",
    "class Pardal(Passaro):\n",
    "    def emitir_som(self):\n",
    "        print(\"Pardal emitindo som...\")\n",
    "        print(\"Piu Piu\")\n",
    "\n",
    "pato = Pato()\n",
    "print(\"Pato\")\n",
    "pato.voar()\n",
    "pato.emitir_som()\n",
    "\n",
    "pardal = Pardal()\n",
    "print(\"\\nPardal\")\n",
    "pardal.voar()\n",
    "pardal.emitir_som()"
   ]
  },
  {
   "attachments": {},
   "cell_type": "markdown",
   "metadata": {},
   "source": [
    "Coding Exercise 22\n",
    "\n",
    "Crie uma classe chamada \"Pessoa\" com um atributo privado \"nome\" (representado como \"__nome\") e um atributo público \"id\". Adicione duas funções à classe, uma para definir o valor de \"nome\" e outra para obter o valor de \"nome\". Observe que o atributo \"nome\" deve ser privado e acessado somente através dessas funções."
   ]
  },
  {
   "cell_type": "code",
   "execution_count": null,
   "metadata": {},
   "outputs": [],
   "source": [
    "class Pessoa:\n",
    "    def __init__(self, id):\n",
    "        self.__nome = None\n",
    "        self.id = id\n",
    "\n",
    "    @property\n",
    "    def nome(self):\n",
    "        return self.__nome\n",
    "\n",
    "    @nome.setter\n",
    "    def nome(self, valor):\n",
    "        self.__nome = valor\n",
    "\n",
    "pessoa = Pessoa(0)\n",
    "pessoa.nome = 'Fulano De Tal'\n",
    "print(pessoa.nome)"
   ]
  },
  {
   "attachments": {},
   "cell_type": "markdown",
   "metadata": {},
   "source": [
    "Coding Exercise 23\n",
    "\n",
    "Crie uma classe  Calculo  que contenha um método que aceita dois parâmetros, X e Y, e retorne a soma dos dois. Nessa mesma classe, implemente um método de subtração, que aceita dois parâmetros, X e Y, e retorne a subtração dos dois (resultados negativos são permitidos).\n",
    "\n",
    "\n",
    "\n",
    "Utilize os valores abaixo para testar seu exercício:\n",
    "\n",
    "x = 4 \n",
    "y = 5"
   ]
  },
  {
   "cell_type": "code",
   "execution_count": 79,
   "metadata": {},
   "outputs": [
    {
     "name": "stdout",
     "output_type": "stream",
     "text": [
      "Somando: 4+5 = 9\n",
      "Subtraindo: 4-5 = -1\n"
     ]
    }
   ],
   "source": [
    "class Calculo:\n",
    "    def __init__(self):\n",
    "        pass\n",
    "\n",
    "    def soma(self, x, y):\n",
    "        return x + y\n",
    "\n",
    "    def subtracao(self, x, y):\n",
    "        return x - y\n",
    "\n",
    "\n",
    "x = 4\n",
    "y = 5\n",
    "calc = Calculo()\n",
    "print(f'Somando: {x}+{y} = {calc.soma(x,y)}')\n",
    "print(f'Subtraindo: {x}-{y} = {calc.subtracao(x,y)}')\n",
    "\n"
   ]
  },
  {
   "attachments": {},
   "cell_type": "markdown",
   "metadata": {},
   "source": [
    "Coding Exercise 24\n",
    "\n",
    "Crie uma classe Ordenadora que contenha um atributo listaBaguncada e que contenha os métodos ordenacaoCrescente e ordenacaoDecrescente.\n",
    "\n",
    "Instancie um objeto chamado crescente dessa classe Ordenadora que tenha como listaBaguncada a lista [3,4,2,1,5] e instancie um outro objeto, decrescente dessa mesma classe com uma outra listaBaguncada sendo [9,7,6,8].\n",
    "\n",
    "Para o primeiro objeto citado, use o método ordenacaoCrescente e para o segundo objeto, use o método\n",
    "\n",
    "ordenacaoDecrescente."
   ]
  },
  {
   "cell_type": "code",
   "execution_count": 90,
   "metadata": {},
   "outputs": [
    {
     "name": "stdout",
     "output_type": "stream",
     "text": [
      "[1, 2, 3, 4, 5]\n",
      "[9, 8, 7, 6]\n"
     ]
    }
   ],
   "source": [
    "class Ordenadora:\n",
    "    def __init__(self, listaBaguncada):\n",
    "        self.listaBaguncada = listaBaguncada\n",
    "    \n",
    "    def ordenacaoCrescente(self):\n",
    "        self.listaBaguncada.sort()\n",
    "        return self.listaBaguncada\n",
    "    \n",
    "    def ordenacaoDecrescente(self):\n",
    "        self.listaBaguncada.sort(reverse=True)\n",
    "        return self.listaBaguncada\n",
    "\n",
    "crescente = Ordenadora([3, 4, 2, 1, 5])\n",
    "decrescente = Ordenadora([9, 7, 6, 8])\n",
    "\n",
    "print(crescente.ordenacaoCrescente())\n",
    "print(decrescente.ordenacaoDecrescente())\n",
    "\n"
   ]
  },
  {
   "attachments": {},
   "cell_type": "markdown",
   "metadata": {},
   "source": [
    "Coding Exercise 25\n",
    "\n",
    "Crie uma classe Avião que possua os atributos modelo, velocidade_maxima, cor e capacidade.\n",
    "\n",
    "Defina o atributo cor de sua classe , de maneira que todas as instâncias de sua classe avião sejam da cor “azul”.\n",
    "\n",
    "Após isso, a partir de entradas abaixo, instancie e armazene em uma lista 3 objetos da classe Avião.\n",
    "\n",
    "Ao final, itere pela lista imprimindo cada um dos objetos no seguinte formato:\n",
    "\n",
    "“O avião de modelo “x” possui uma velocidade máxima de “y”, capacidade para “z” passageiros e é da cor “w”.\n",
    "\n",
    "Sendo x, y, z e w cada um dos atributos da classe “Avião”."
   ]
  },
  {
   "cell_type": "code",
   "execution_count": 105,
   "metadata": {},
   "outputs": [
    {
     "name": "stdout",
     "output_type": "stream",
     "text": [
      "O avião de modelo BOIENG456 possui uma velocidade máxima de 1500 km/h, capacidade para 400 passageiros e é da cor azul.\n",
      "O avião de modelo Embraer Praetor 600 possui uma velocidade máxima de 863 km/h, capacidade para 14 passageiros e é da cor azul.\n",
      "O avião de modelo Antonov An-2 possui uma velocidade máxima de 258 km/h, capacidade para 12 passageiros e é da cor azul.\n"
     ]
    }
   ],
   "source": [
    "class Aviao:\n",
    "    cor = \"azul\"\n",
    "    \n",
    "    def __init__(self, modelo, velocidade_maxima, capacidade):\n",
    "        self.modelo = modelo\n",
    "        self.velocidade_maxima = velocidade_maxima\n",
    "        self.capacidade = capacidade\n",
    "\n",
    "# Criando os objetos da classe Aviao\n",
    "aviao1 = Aviao(\"BOIENG456\", \"1500 km/h\", 400)\n",
    "aviao2 = Aviao(\"Embraer Praetor 600\", \"863 km/h\", 14)\n",
    "aviao3 = Aviao(\"Antonov An-2\", \"258 km/h\", 12)\n",
    "\n",
    "# Armazenando os objetos em uma lista\n",
    "lista_avioes = [aviao1, aviao2, aviao3]\n",
    "\n",
    "# Iterando pela lista e imprimindo as informações de cada avião\n",
    "for aviao in lista_avioes:\n",
    "    print(f\"O avião de modelo {aviao.modelo} possui uma velocidade máxima de {aviao.velocidade_maxima}, capacidade para {aviao.capacidade} passageiros e é da cor {Aviao.cor}.\")\n",
    "\n",
    "\n",
    "\n"
   ]
  }
 ],
 "metadata": {
  "kernelspec": {
   "display_name": "Python 3",
   "language": "python",
   "name": "python3"
  },
  "language_info": {
   "codemirror_mode": {
    "name": "ipython",
    "version": 3
   },
   "file_extension": ".py",
   "mimetype": "text/x-python",
   "name": "python",
   "nbconvert_exporter": "python",
   "pygments_lexer": "ipython3",
   "version": "3.11.1"
  },
  "orig_nbformat": 4
 },
 "nbformat": 4,
 "nbformat_minor": 2
}
