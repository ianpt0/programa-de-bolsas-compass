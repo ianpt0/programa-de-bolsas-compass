{
 "cells": [
  {
   "attachments": {},
   "cell_type": "markdown",
   "metadata": {},
   "source": [
    "# Apresente o ator/atriz com maior número de filmes e a respectiva quantidade."
   ]
  },
  {
   "cell_type": "code",
   "execution_count": 1,
   "metadata": {},
   "outputs": [
    {
     "name": "stdout",
     "output_type": "stream",
     "text": [
      "Robert DeNiro 79.0\n"
     ]
    }
   ],
   "source": [
    "# Criando dicionário para consultar nome dos atores e quantidade de filmes feitos\n",
    "actors_dict = {}\n",
    "\n",
    "with open('actors.csv', 'r') as file:\n",
    "    # Ignorando a primeira linha com o next\n",
    "    next(file)\n",
    "    for line in file:\n",
    "        fields = line.strip().split(',')\n",
    "        actor = fields[0]\n",
    "        # Convertendo o número de filmes de string pra float pra conseguir fazer a condicional\n",
    "        numberOfMovies = float(fields[2])\n",
    "        # Removendo número de filmes que for maior que 500 pra excluir \"Robert Downey\" da lista pois já foi verificado que ele não possui o maior número de filmes e a vírgula do nome dele tá dando conflito.\n",
    "        if numberOfMovies < 500:\n",
    "            actors_dict[actor] = numberOfMovies\n",
    "\n",
    "\n",
    "\n",
    "ator_com_mais_filmes = max(actors_dict, key=actors_dict.get)\n",
    "qtd_filmes = actors_dict[ator_com_mais_filmes]\n",
    "\n",
    "print(ator_com_mais_filmes, qtd_filmes)\n",
    "\n",
    "#Fazendo o load da resposta no respectivo txt\n",
    "with open('etapa-1.txt', 'w') as f:\n",
    "    print(ator_com_mais_filmes, qtd_filmes, file=f)"
   ]
  },
  {
   "attachments": {},
   "cell_type": "markdown",
   "metadata": {},
   "source": [
    "# Apresente a  média de faturamento bruto por ator."
   ]
  },
  {
   "cell_type": "code",
   "execution_count": 3,
   "metadata": {},
   "outputs": [
    {
     "name": "stdout",
     "output_type": "stream",
     "text": [
      "{'Harrison Ford': 118.82195121951219, 'Samuel L. Jackson': 69.17101449275363, 'Morgan Freeman': 73.25081967213114, 'Tom Hanks': 98.65454545454546, 'Robert Downey, Jr.': 74.47735849056605, 'Eddie Murphy': 100.27368421052631, 'Tom Cruise': 99.64444444444445, 'Johnny Depp': 74.85777777777777, 'Michael Caine': 57.78448275862069, 'Scarlett Johansson': 90.3027027027027, 'Gary Oldman': 86.6842105263158, 'Robin Williams': 66.92448979591838, 'Bruce Willis': 53.156666666666666, 'Stellan Skarsgard': 73.83720930232558, 'Anthony Daniels': 451.84285714285716, 'Ian McKellen': 101.6258064516129, 'Will Smith': 131.2125, 'Stanley Tucci': 62.478, 'Matt Damon': 79.67435897435898, 'Robert DeNiro': 39.003797468354435, 'Cameron Diaz': 89.16764705882352, 'Liam Neeson': 46.70952380952381, 'Andy Serkis': 125.67826086956521, 'Don Cheadle': 84.86470588235295, 'Ben Stiller': 76.4054054054054, 'Helena Bonham Carter': 78.38888888888889, 'Orlando Bloom': 165.63529411764708, 'Woody Harrelson': 56.316, 'Cate Blanchett': 71.86153846153846, 'Julia Roberts': 65.12619047619049, 'Elizabeth Banks': 77.89428571428572, 'Ralph Fiennes': 75.42500000000001, 'Emma Watson': 157.75882352941176, 'Tommy Lee Jones': 58.289130434782614, 'Brad Pitt': 67.02250000000001, 'Adam Sandler': 83.15625, 'Daniel Radcliffe': 154.96470588235294, 'Jonah Hill': 89.83103448275861, 'Owen Wilson': 66.72564102564102, 'Idris Elba': 99.25384615384615, 'Bradley Cooper': 102.30799999999999, 'Mark Wahlberg': 70.82777777777778, 'Jim Carrey': 94.26666666666667, 'Dustin Hoffman': 58.65348837209302, 'Leonardo DiCaprio': 100.73200000000001, 'Jeremy Renner': 119.06190476190477, 'Philip Seymour Hoffman': 61.592499999999994, 'Sandra Bullock': 70.36, 'Chris Evans': 106.8608695652174, 'Anne Hathaway': 96.66}\n"
     ]
    }
   ],
   "source": [
    "# Criando dicionário para consultar nome dos ATORES e FATURAMENTO BRUTO\n",
    "atoresFaturamento = {}\n",
    "\n",
    "with open('actors.csv', 'r') as file:\n",
    "    # Ignorando a primeira linha com o next\n",
    "    next(file)\n",
    "    for line in file:\n",
    "        # Limpando strings com ,\n",
    "        fields = []\n",
    "        while True:\n",
    "                if line.startswith('\"'):\n",
    "                    # Achando próximas aspas e dando append\n",
    "                    end_quote_idx = line[1:].index('\"') + 1\n",
    "                    fields.append(line[1:end_quote_idx])\n",
    "                    line = line[end_quote_idx+2:]\n",
    "                else:\n",
    "                    # Achando próxima vírgula e dando append\n",
    "                    comma_idx = line.find(',')\n",
    "                    if comma_idx == -1:\n",
    "                        fields.append(line.strip())\n",
    "                        break\n",
    "                    else:\n",
    "                        fields.append(line[:comma_idx])\n",
    "                        line = line[comma_idx+1:]\n",
    "        # Atores\n",
    "        actor = fields[0]\n",
    "        # Quantidade de filmes\n",
    "        quantiddade_filmes = float(fields[2])\n",
    "        # Faturamento bruto\n",
    "        faturamentoBruto = float(fields[1])\n",
    "        # Média do faturamento bruto\n",
    "        mediaFaturamento = faturamentoBruto / quantiddade_filmes\n",
    "        # Dicionario\n",
    "        atoresFaturamento[actor] = mediaFaturamento\n",
    "\n",
    "\n",
    "print(atoresFaturamento)\n",
    "\n",
    "#Fazendo o load da resposta no respectivo txt\n",
    "with open('etapa-2.txt', 'w') as f:\n",
    "    print(atoresFaturamento, file=f)\n"
   ]
  },
  {
   "attachments": {},
   "cell_type": "markdown",
   "metadata": {},
   "source": [
    "# Apresente o ator/atriz com a maior média de faturamento por filme."
   ]
  },
  {
   "cell_type": "code",
   "execution_count": 6,
   "metadata": {},
   "outputs": [
    {
     "name": "stdout",
     "output_type": "stream",
     "text": [
      "Anthony Daniels 451.84285714285716\n"
     ]
    }
   ],
   "source": [
    "# Criando dicionário para consultar nome dos ATORES e MÉDIAS DE FATURAMENTO BRUTO\n",
    "atoresMediaFaturamento = {}\n",
    "\n",
    "with open('actors.csv', 'r') as file:\n",
    "    # Ignorando a primeira linha com o next\n",
    "    next(file)\n",
    "    for line in file:\n",
    "        # Limpando strings com ,\n",
    "        fields = []\n",
    "        while True:\n",
    "                if line.startswith('\"'):\n",
    "                    # Achando próximas aspas e dando append\n",
    "                    end_quote_idx = line[1:].index('\"') + 1\n",
    "                    fields.append(line[1:end_quote_idx])\n",
    "                    line = line[end_quote_idx+2:]\n",
    "                else:\n",
    "                    # Achando próxima vírgula e dando append\n",
    "                    comma_idx = line.find(',')\n",
    "                    if comma_idx == -1:\n",
    "                        fields.append(line.strip())\n",
    "                        break\n",
    "                    else:\n",
    "                        fields.append(line[:comma_idx])\n",
    "                        line = line[comma_idx+1:]\n",
    "        # Atores\n",
    "        actor = fields[0]\n",
    "        # Quantidade de filmes\n",
    "        quantidade_filmes = float(fields[2])\n",
    "        # Faturamento bruto\n",
    "        faturamentoBruto = float(fields[1])\n",
    "        # Média do faturamento bruto\n",
    "        mediaFaturamento = faturamentoBruto / quantidade_filmes\n",
    "        # Dicionario com MÉDIA de faturamento bruto por filme\n",
    "        atoresMediaFaturamento[actor] = mediaFaturamento\n",
    "\n",
    "        \n",
    "\n",
    "atorMaiorMedia = max(atoresMediaFaturamento, key=atoresMediaFaturamento.get)\n",
    "media = atoresMediaFaturamento[atorMaiorMedia]\n",
    "print(atorMaiorMedia, media)\n",
    "\n",
    "#Fazendo o load da resposta no respectivo txt\n",
    "with open('etapa-3.txt', 'w') as f:\n",
    "    print(f'Ator com maior media de faturamento: {atorMaiorMedia} com uma media de {media}', file=f)\n"
   ]
  },
  {
   "attachments": {},
   "cell_type": "markdown",
   "metadata": {},
   "source": [
    "# O nome do(s) filme(s) mais frequente(s) e sua respectiva frequência."
   ]
  },
  {
   "cell_type": "code",
   "execution_count": 7,
   "metadata": {},
   "outputs": [
    {
     "name": "stdout",
     "output_type": "stream",
     "text": [
      "{'The Avengers': 6, 'Catching Fire': 4, 'Harry Potter / Deathly Hallows (P2)': 4, 'Star Wars: The Force Awakens': 3, 'The Dark Knight': 3, 'Meet the Fockers': 3, 'Shrek 2': 2, \"Dead Man's Chest\": 2, 'Night at the Museum': 2, 'Return of the King': 2, 'Avengers: Age of Ultron': 2, 'Toy Story 3': 1, 'War of the Worlds': 1, 'Sixth Sense': 1, 'Independence Day': 1, 'The Martian': 1, 'The Phantom Menace': 1, \"Ocean's Eleven\": 1, 'Men in Black': 1, 'World War Z': 1, 'Hotel Transylvania 2': 1, 'The LEGO Movie': 1, 'American Sniper': 1, 'Transformers 4': 1, 'The Grinch': 1, 'Titanic': 1, 'Minions': 1, 'The Dark Knight Rises': 1}\n"
     ]
    }
   ],
   "source": [
    "# Criando dicionário para consultar nome dos FILMES e sua FREQUENCIA\n",
    "filmesFrequencia = {}\n",
    "\n",
    "with open('actors.csv', 'r') as file:\n",
    "    # Ignorando a primeira linha com o next\n",
    "    next(file)\n",
    "    for line in file:\n",
    "        # Limpando strings com ,\n",
    "        fields = []\n",
    "        while True:\n",
    "            if line.startswith('\"'):\n",
    "                # Achando próximas aspas e dando append\n",
    "                end_quote_idx = line[1:].index('\"') + 1\n",
    "                fields.append(line[1:end_quote_idx])\n",
    "                line = line[end_quote_idx+2:]\n",
    "            else:\n",
    "                # Achando próxima vírgula e dando append\n",
    "                comma_idx = line.find(',')\n",
    "                if comma_idx == -1:\n",
    "                    fields.append(line.strip())\n",
    "                    break\n",
    "                else:\n",
    "                    fields.append(line[:comma_idx])\n",
    "                    line = line[comma_idx+1:]\n",
    "        # Filmes\n",
    "        movies = fields[4].split(';')\n",
    "        # Contando frequencia de repetição\n",
    "        for movie in movies:\n",
    "            filmesFrequencia[movie] = filmesFrequencia.get(movie, 0) + 1\n",
    "\n",
    "# Ordenando o dicionário por ordem de frequência\n",
    "filmesFrequenciaOrdenado = dict(sorted(filmesFrequencia.items(), key=lambda item: item[1], reverse=True))\n",
    "\n",
    "print(filmesFrequenciaOrdenado)\n",
    "\n",
    "#Fazendo o load da resposta no respectivo txt\n",
    "with open('etapa-4.txt', 'w') as f:\n",
    "    print(filmesFrequenciaOrdenado, file=f)"
   ]
  },
  {
   "attachments": {},
   "cell_type": "markdown",
   "metadata": {},
   "source": [
    "# A lista dos atores ordenada pelo faturamento bruto total, em ordem decrescente."
   ]
  },
  {
   "cell_type": "code",
   "execution_count": 8,
   "metadata": {},
   "outputs": [
    {
     "name": "stdout",
     "output_type": "stream",
     "text": [
      "{'Harrison Ford': 4871.7, 'Samuel L. Jackson': 4772.8, 'Morgan Freeman': 4468.3, 'Tom Hanks': 4340.8, 'Robert Downey, Jr.': 3947.3, 'Eddie Murphy': 3810.4, 'Tom Cruise': 3587.2, 'Johnny Depp': 3368.6, 'Michael Caine': 3351.5, 'Scarlett Johansson': 3341.2, 'Gary Oldman': 3294.0, 'Robin Williams': 3279.3, 'Bruce Willis': 3189.4, 'Stellan Skarsgard': 3175.0, 'Anthony Daniels': 3162.9, 'Ian McKellen': 3150.4, 'Will Smith': 3149.1, 'Stanley Tucci': 3123.9, 'Matt Damon': 3107.3, 'Robert DeNiro': 3081.3, 'Cameron Diaz': 3031.7, 'Liam Neeson': 2942.7, 'Andy Serkis': 2890.6, 'Don Cheadle': 2885.4, 'Ben Stiller': 2827.0, 'Helena Bonham Carter': 2822.0, 'Orlando Bloom': 2815.8, 'Woody Harrelson': 2815.8, 'Cate Blanchett': 2802.6, 'Julia Roberts': 2735.3, 'Elizabeth Banks': 2726.3, 'Ralph Fiennes': 2715.3, 'Emma Watson': 2681.9, 'Tommy Lee Jones': 2681.3, 'Brad Pitt': 2680.9, 'Adam Sandler': 2661.0, 'Daniel Radcliffe': 2634.4, 'Jonah Hill': 2605.1, 'Owen Wilson': 2602.3, 'Idris Elba': 2580.6, 'Bradley Cooper': 2557.7, 'Mark Wahlberg': 2549.8, 'Jim Carrey': 2545.2, 'Dustin Hoffman': 2522.1, 'Leonardo DiCaprio': 2518.3, 'Jeremy Renner': 2500.3, 'Philip Seymour Hoffman': 2463.7, 'Sandra Bullock': 2462.6, 'Chris Evans': 2457.8, 'Anne Hathaway': 2416.5}\n"
     ]
    }
   ],
   "source": [
    "# Criando dicionário para consultar nome dos ATORES e FATURAMENTO BRUTO em ordem DECRESCENTE\n",
    "atoresFaturamentoTotal = {}\n",
    "\n",
    "with open('actors.csv', 'r') as file:\n",
    "    # Ignorando a primeira linha com o next\n",
    "    next(file)\n",
    "    for line in file:\n",
    "        # Limpando strings com ,\n",
    "        fields = []\n",
    "        while True:\n",
    "                if line.startswith('\"'):\n",
    "                    # Achando próximas aspas e dando append\n",
    "                    end_quote_idx = line[1:].index('\"') + 1\n",
    "                    fields.append(line[1:end_quote_idx])\n",
    "                    line = line[end_quote_idx+2:]\n",
    "                else:\n",
    "                    # Achando próxima vírgula e dando append\n",
    "                    comma_idx = line.find(',')\n",
    "                    if comma_idx == -1:\n",
    "                        fields.append(line.strip())\n",
    "                        break\n",
    "                    else:\n",
    "                        fields.append(line[:comma_idx])\n",
    "                        line = line[comma_idx+1:]\n",
    "        # Atores\n",
    "        actor = fields[0]\n",
    "        # Quantidade de filmes\n",
    "        quantiddade_filmes = float(fields[2])\n",
    "        # Faturamento bruto\n",
    "        faturamentoBruto = float(fields[1])\n",
    "       # Dicionario\n",
    "        atoresFaturamentoTotal[actor] = faturamentoBruto\n",
    "\n",
    "\n",
    "print(atoresFaturamentoTotal)\n",
    "\n",
    "\n",
    "#Fazendo o load da resposta no respectivo txt\n",
    "with open('etapa-5.txt', 'w') as f:\n",
    "    print(atoresFaturamentoTotal, file=f)"
   ]
  }
 ],
 "metadata": {
  "kernelspec": {
   "display_name": "Python 3",
   "language": "python",
   "name": "python3"
  },
  "language_info": {
   "codemirror_mode": {
    "name": "ipython",
    "version": 3
   },
   "file_extension": ".py",
   "mimetype": "text/x-python",
   "name": "python",
   "nbconvert_exporter": "python",
   "pygments_lexer": "ipython3",
   "version": "3.11.1"
  },
  "orig_nbformat": 4
 },
 "nbformat": 4,
 "nbformat_minor": 2
}
