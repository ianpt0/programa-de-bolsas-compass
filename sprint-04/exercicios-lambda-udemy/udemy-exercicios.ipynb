{
 "cells": [
  {
   "attachments": {},
   "cell_type": "markdown",
   "metadata": {},
   "source": [
    "# Coding Exercise 1"
   ]
  },
  {
   "cell_type": "code",
   "execution_count": 2,
   "metadata": {},
   "outputs": [
    {
     "name": "stdout",
     "output_type": "stream",
     "text": [
      "[8000, 7998, 7996, 7994, 7994]\n",
      "39982\n"
     ]
    }
   ],
   "source": [
    "with open('number.txt', 'r') as f: #abrindo arquivo\n",
    "    numeros = f.readlines() #inserindo linhas numa lista e atribuindo a variavel\n",
    "\n",
    "    # Convertendo todos os itens da lista em inteiro com map() e checando\n",
    "    numeros_int = list(map(int, numeros))\n",
    "    check_int = all(isinstance(x, int) for x in numeros_int) # Pra checar se todos são inteiros\n",
    "    #print(check_int)\n",
    "\n",
    "    # Filtrando pares com filter()\n",
    "    pares = list(filter(lambda x: x % 2 == 0, numeros_int))\n",
    "    \n",
    "    # Filtrando 5 maiores pares em ordem decrescente com sorted()\n",
    "    cinco_maiores_pares = sorted(pares, reverse=True)[:5]\n",
    "    print(cinco_maiores_pares)\n",
    "\n",
    "    # Somando com sum()\n",
    "    soma = sum(cinco_maiores_pares)\n",
    "    print(soma)\n"
   ]
  },
  {
   "attachments": {},
   "cell_type": "markdown",
   "metadata": {},
   "source": [
    "# Coding Exercise 2"
   ]
  },
  {
   "cell_type": "code",
   "execution_count": 3,
   "metadata": {},
   "outputs": [],
   "source": [
    "def conta_vogais(texto:str)-> int:\n",
    "    vogais = 'aeiouAEIOU'\n",
    "    return len(list(filter(lambda x: x in vogais, texto)))"
   ]
  },
  {
   "attachments": {},
   "cell_type": "markdown",
   "metadata": {},
   "source": [
    "# Coding Exercise 3"
   ]
  },
  {
   "cell_type": "code",
   "execution_count": 4,
   "metadata": {},
   "outputs": [],
   "source": [
    "from functools import reduce\n",
    "\n",
    "def calcula_saldo(lancamentos) -> float:\n",
    "    # Usando map() \n",
    "    valores = map(lambda x: x[0] if x[1] == 'C' else -x[0], lancamentos)\n",
    "    # Reduz a lista de valores para um único valor final\n",
    "    saldo_final = reduce(lambda x, y: x + y, valores)\n",
    "    return saldo_final"
   ]
  },
  {
   "attachments": {},
   "cell_type": "markdown",
   "metadata": {},
   "source": [
    "# Coding Exercise 4"
   ]
  },
  {
   "cell_type": "code",
   "execution_count": 5,
   "metadata": {},
   "outputs": [],
   "source": [
    "def calcular_valor_maximo(operadores, operandos) -> float:\n",
    "    operacoes = {\n",
    "        '+': lambda x,y: x+y,\n",
    "        '-': lambda x,y: x-y,\n",
    "        '*': lambda x,y: x*y,\n",
    "        '/': lambda x,y: x/y,\n",
    "        '%': lambda x,y: x%y\n",
    "    }\n",
    "    resultados = map(lambda x: operacoes[x[0]](*x[1]), zip(operadores, operandos))\n",
    "    return max(resultados)"
   ]
  },
  {
   "attachments": {},
   "cell_type": "markdown",
   "metadata": {},
   "source": [
    "# Coding Exercise 5"
   ]
  },
  {
   "cell_type": "code",
   "execution_count": 6,
   "metadata": {},
   "outputs": [
    {
     "name": "stdout",
     "output_type": "stream",
     "text": [
      "Nome: Alexandre da Rosa Notas: [10, 10, 8] Média: 9.33\n",
      "Nome: Ana Clara das Neves Notas: [7, 6, 6] Média: 6.33\n",
      "Nome: Ana GonÃ§alves Notas: [8, 3, 3] Média: 4.67\n",
      "Nome: Ana Julia Cavalcanti Notas: [10, 10, 9] Média: 9.67\n",
      "Nome: Ana VitÃ³ria Moraes Notas: [10, 6, 5] Média: 7.0\n",
      "Nome: AndrÃ© Mendes Notas: [6, 4, 4] Média: 4.67\n",
      "Nome: Beatriz Moreira Notas: [6, 4, 3] Média: 4.33\n",
      "Nome: Carolina da Mata Notas: [5, 5, 3] Média: 4.33\n",
      "Nome: Catarina Barros Notas: [10, 4, 3] Média: 5.67\n",
      "Nome: CauÃª FogaÃ§a Notas: [10, 5, 5] Média: 6.67\n",
      "Nome: CecÃ­lia Costa Notas: [9, 4, 4] Média: 5.67\n",
      "Nome: Clara da Rocha Notas: [9, 9, 7] Média: 8.33\n",
      "Nome: Davi Lucas Gomes Notas: [9, 8, 8] Média: 8.33\n",
      "Nome: Diogo AragÃ£o Notas: [7, 5, 5] Média: 5.67\n",
      "Nome: Dr. Pedro Henrique Rezende Notas: [10, 10, 3] Média: 7.67\n",
      "Nome: Dra. HeloÃ­sa Pinto Notas: [8, 6, 5] Média: 6.33\n",
      "Nome: Dra. Laura Pereira Notas: [6, 5, 3] Média: 4.67\n",
      "Nome: Enzo Melo Notas: [10, 10, 6] Média: 8.67\n",
      "Nome: Gabriel Novaes Notas: [10, 10, 8] Média: 9.33\n",
      "Nome: Gabriel da Rosa Notas: [3, 3, 2] Média: 2.67\n",
      "Nome: Heitor AragÃ£o Notas: [6, 6, 5] Média: 5.67\n",
      "Nome: Heitor Martins Notas: [10, 9, 6] Média: 8.33\n",
      "Nome: JoÃ£o Cardoso Notas: [10, 7, 5] Média: 7.33\n",
      "Nome: JoÃ£o Pedro Moura Notas: [5, 3, 3] Média: 3.67\n",
      "Nome: Leandro Rodrigues Notas: [7, 5, 4] Média: 5.33\n",
      "Nome: LetÃ­cia Jesus Notas: [6, 5, 5] Média: 5.33\n",
      "Nome: Luigi Pereira Notas: [9, 8, 8] Média: 8.33\n",
      "Nome: Maria Luiza Correia Notas: [7, 5, 5] Média: 5.67\n",
      "Nome: Maria Mendes Notas: [7, 3, 3] Média: 4.33\n",
      "Nome: Nicolas Campos Notas: [10, 8, 7] Média: 8.33\n",
      "Nome: Nina Viana Notas: [10, 9, 6] Média: 8.33\n",
      "Nome: Paulo da Rosa Notas: [5, 5, 5] Média: 5.0\n",
      "Nome: Pedro Castro Notas: [9, 8, 5] Média: 7.33\n",
      "Nome: Pedro Lucas AraÃºjo Notas: [9, 7, 3] Média: 6.33\n",
      "Nome: Rodrigo Jesus Notas: [10, 8, 8] Média: 8.67\n",
      "Nome: Ryan Nascimento Notas: [9, 6, 4] Média: 6.33\n",
      "Nome: Sr. Luiz OtÃ¡vio Cardoso Notas: [10, 10, 9] Média: 9.67\n",
      "Nome: Sra. Melissa da Cunha Notas: [10, 5, 3] Média: 6.0\n",
      "Nome: Srta. Carolina Almeida Notas: [10, 9, 2] Média: 7.0\n",
      "Nome: Thiago Silveira Notas: [7, 7, 4] Média: 6.0\n"
     ]
    }
   ],
   "source": [
    "import csv\n",
    "\n",
    "# Abrindo o csv e iterando para pegar os dados desejados: NOME, NOTAS e MÉDIA\n",
    "alunos = []\n",
    "\n",
    "with open('estudantes.csv', newline='') as csvfile:\n",
    "    reader = csv.reader(csvfile)\n",
    "    for row in reader:\n",
    "        # Selecionando nomes dos alunos\n",
    "        nome = row[0]\n",
    "        # Convertendo notas para float usando map() e usando sorted() pra ordenar por valor decrescente. O [:3] foi usado para pegar as 3 maiores notas.\n",
    "        notas = sorted(map(int, row[1:]), reverse=True)[:3]\n",
    "        # Calculando média e usando round() pra ter 2 casas decimais\n",
    "        media = round(sum(notas) / 3, 2)\n",
    "        # Append na lista com dados desejados\n",
    "        aluno = {'Nome': nome, 'Notas': notas, 'Media': media}\n",
    "        alunos.append(aluno)\n",
    "\n",
    "# Ordenando por ordem alfabetica\n",
    "alunos_ordenados = sorted(alunos, key=lambda x: x['Nome'])\n",
    "\n",
    "# Nova lista ordenada \n",
    "for alu in alunos_ordenados:\n",
    "    nome = alu['Nome']\n",
    "    notas = alu['Notas']\n",
    "    media = alu['Media']\n",
    "    print(f'Nome: {nome} Notas: {notas} Média: {media}')\n",
    "\n"
   ]
  }
 ],
 "metadata": {
  "kernelspec": {
   "display_name": "Python 3",
   "language": "python",
   "name": "python3"
  },
  "language_info": {
   "codemirror_mode": {
    "name": "ipython",
    "version": 3
   },
   "file_extension": ".py",
   "mimetype": "text/x-python",
   "name": "python",
   "nbconvert_exporter": "python",
   "pygments_lexer": "ipython3",
   "version": "3.11.1"
  },
  "orig_nbformat": 4
 },
 "nbformat": 4,
 "nbformat_minor": 2
}
